{
 "cells": [
  {
   "cell_type": "markdown",
   "metadata": {},
   "source": [
    "# Finite difference simulations of 2D waves"
   ]
  },
  {
   "cell_type": "markdown",
   "metadata": {},
   "source": [
    "## The mathematical model"
   ]
  },
  {
   "cell_type": "markdown",
   "metadata": {},
   "source": [
    "\n",
    "Our 2D PDE is given by\n",
    "\n",
    "$$\n",
    "\\frac{\\partial^2 u}{\\partial t^2} + b\\frac{\\partial u}{\\partial t} = \\frac{\\partial}{\\partial x}\\left(q(x,y) \\frac{\\partial u}{\\partial x}\\right) + \\frac{\\partial}{\\partial y}\\left(q(x,y) \\frac{\\partial u}{\\partial y}\\right) + f(x,y,t)\n",
    "$$\n",
    "\n",
    "with Neumann boundary conditions \n",
    "\n",
    "$$\n",
    "\\frac{\\partial u}{\\partial n} = 0,\n",
    "$$\n",
    "\n",
    "and initial conditions\n",
    "\n",
    "$$\n",
    "u(x,y,0) = I(x,y)\n",
    "$$\n",
    "\n",
    "$$\n",
    "u_t(x,y,0) = V(x,y)\n",
    "$$"
   ]
  },
  {
   "cell_type": "markdown",
   "metadata": {},
   "source": [
    "## Discretization"
   ]
  },
  {
   "cell_type": "markdown",
   "metadata": {},
   "source": [
    "We discretize the domain such that we have $N_x+1$ points in the $x$-direction, $N_y+1$ points in the $y$-direction and $N_t$ points in the time domain. Hence we have the spatial mesh\n",
    "\n",
    "$$\n",
    "0 < x_1 < \\cdots <x_{N_t} < L_x,\n",
    "$$\n",
    "\n",
    "$$\n",
    "0 < y_1 < \\cdots < y_{N_t} < L_y,\n",
    "$$\n",
    "\n",
    "for some length $L$ and\n",
    "\n",
    "$$ \n",
    "0 = t_0 < t_1 < \\cdots < t_{N_t} = T\n",
    "$$\n",
    "\n",
    "for some total time $T$. \n",
    "\n",
    "### Ghost cells\n",
    "\n",
    "We anticipate that we'll use ghost cells, such that we let \n",
    "\n",
    "$i = 0, 1, ..., N_x, N_x + 1$, in the $x$-direction where $i = 0$ and $i = N_x + 1$ correspond to ghost cells.\n",
    "Similarly, we set \n",
    "$j = 0, 1, ..., N_y, N_y + 1$ in the $y$-direction where $j = 0$ and $j = N_y + 1$ correspond to ghost cells.\n",
    "\n",
    "This means we'll operate with $i = 1$ and $i=N_x$ for the boundaries in the $x$-direction and $j = 1$ and $j = N_y$ as the boundaries in the $y$-direction"
   ]
  },
  {
   "cell_type": "markdown",
   "metadata": {},
   "source": [
    "### Discretization in the time domain"
   ]
  },
  {
   "cell_type": "markdown",
   "metadata": {},
   "source": [
    "We discretize in the time domain in the following way:\n",
    "$$\n",
    "(u_{tt})_{i,j}^n\\approx \\frac{u_{i,j}^{n+1} - 2u_{i,j}^n + u_{i,j}^{n-1}}{\\Delta t^2},\n",
    "$$\n",
    "\n",
    "$$\n",
    "(u_{t})_{i,j}^n \\approx \\frac{u_{i,j}^{n+1} - u_{i,j}^n}{2\\Delta t}\n",
    "$$"
   ]
  },
  {
   "cell_type": "markdown",
   "metadata": {},
   "source": [
    "### Discretizing the spatial terms"
   ]
  },
  {
   "cell_type": "markdown",
   "metadata": {},
   "source": [
    "We can discretize the spatial terms in the following. Let's first define $\\phi \\equiv q(x,y)u_x$\n",
    "\n",
    "$$\n",
    "\\partial_x \\left(q(x,y) u_x \\right) = \\phi_x.\n",
    "$$\n",
    "\n",
    "We discretize this with centered difference at $x$ using a stepsize $h = \\Delta x/2$. We then obtain the centered difference scheme\n",
    "\n",
    "$$\n",
    "(\\phi_x)_{i,j}^n \\approx \\frac{\\phi_{i+1/2,j}^n - \\phi_{i-1/2,j}^n}{\\Delta x},\n",
    "$$\n",
    "\n",
    "where we approximate the two terms using another round of centered difference at $x_{i \\pm 1/2}$ as \n",
    "\n",
    "$$\n",
    "\\phi_{i+1/2,j}^n = q_{i+1,j}(u_x)_{i+1/2, j}^n \\approx \\frac{q_{i+1,j} + q_{i,j}}{2\\Delta x}\\left(u_{i+1,j}^n - u_{i,j}^n \\right),\n",
    "$$\n",
    "where we approximated $q_{i+1/2,j} \\approx (q_{i+1,j}+q_{i,j})/2$. A similar argument leads to\n",
    "\n",
    "$$\n",
    "\\phi_{i-1/2,j}^n = q_{i-1/2,j}(u_x)_{i-1/2, j}^n \\approx \\frac{q_{i,j} + q_{i-1,j}}{2\\Delta x}\\left(u_{i,j}^n - u_{i-1,j}^n \\right)\n",
    "$$\n",
    "\n",
    "This ultimately lead to the discretization formula \n",
    "\n",
    "$$\n",
    "\\left[ \\partial_x \\left(q u_x \\right)\\right]_{i,j}^n = \\frac{(q_{i+1,j} + q_{i,j})(u_{i+1,j}^n - u_{i,j}^n)-(q_{i,j} + q_{i-1,j})(u_{i,j}^n - u_{i-1,j}^n)}{2\\Delta x^2}\n",
    "$$"
   ]
  },
  {
   "cell_type": "markdown",
   "metadata": {},
   "source": [
    "Discretization in the $y$ direction leads to an analogue expression:\n",
    "\n",
    "$$\n",
    "\\left[ \\partial_y \\left(q u_y \\right)\\right]_{i,j}^n = \\frac{(q_{i,j+1} + q_{i,j})(u_{i,j+1}^n - u_{i,j}^n)-(q_{i} + q_{i,j-1})(u_{i,j}^n - u_{i,j-1}^n)}{2\\Delta y^2}\n",
    "$$"
   ]
  },
  {
   "cell_type": "markdown",
   "metadata": {},
   "source": [
    "As a final note to fix our notation, we define $f(x_i, y_j, t_n) \\equiv f_{i,j}^n$."
   ]
  },
  {
   "cell_type": "markdown",
   "metadata": {},
   "source": [
    "### Formula for the next timestep on the inner mesh points $u_{i,j}^{n+1}$"
   ]
  },
  {
   "cell_type": "markdown",
   "metadata": {},
   "source": [
    "Combining all the terms gives\n",
    "\n",
    "$$\n",
    "\\frac{u_{i,j}^{n+1} - 2u_{i,j}^n + u_{i,j}^{n-1}}{\\Delta t^2} + b\\frac{u_{i,j}^{n+1} - u_{i,j}^{n-1}}{2\\Delta t} = \\frac{(q_{i+1,j} + q_{i,j})(u_{i+1,j}^n - u_{i,j}^n)-(q_{i,j} + q_{i-1,j})(u_{i,j}^n - u_{i-1,j}^n)}{2\\Delta x^2} + \\frac{(q_{i,j+1} + q_{i,j})(u_{i,j+1}^n - u_{i,j}^n)-(q_{i} + q_{i,j-1})(u_{i,j}^n - u_{i,j-1}^n)}{2\\Delta y^2} + f_{i,j}^n\n",
    "$$"
   ]
  },
  {
   "cell_type": "markdown",
   "metadata": {},
   "source": [
    "Which can be rearranged into\n",
    "\n",
    "$$\n",
    "u_{i,j}^{n+1} = A\\bigg[ (b\\Delta t - 2)u_{i,j}^{n-1} + 4u_{i,j}^n + C_x^2\\left[(q_{i+1,j} + q_{i,j})(u_{i+1,j}^n - u_{i,j}^n)-(q_{i,j} + q_{i-1,j})(u_{i,j}^n - u_{i-1,j}^n)\\right] + C_y^2\\left[(q_{i,j+1} + q_{i,j})(u_{i,j+1}^n - u_{i,j}^n)-(q_{i,j} + q_{i,j-1})(u_{i,j}^n - u_{i,j-1}^n)\\right] + 2\\Delta t^2f_{i,j}^n \\bigg].\n",
    "$$\n",
    "\n",
    "with $A \\equiv 1/(1+2b\\Delta t)$, $C_x \\equiv \\Delta t/\\Delta x$ and $C_y \\equiv \\Delta t/\\Delta y$."
   ]
  },
  {
   "cell_type": "markdown",
   "metadata": {},
   "source": [
    "### Imposing boundary conditions"
   ]
  },
  {
   "cell_type": "markdown",
   "metadata": {},
   "source": [
    "Imposing the Neumann boundary conditions $\\partial u/\\partial n = 0$ effectively means \n",
    "\n",
    "$$\n",
    "u_x(0,y,t) = 0, \\qquad u_x(L_x, y, t) = 0,\n",
    "$$\n",
    "\n",
    "and \n",
    "\n",
    "$$\n",
    "u_y(x,0,t) = 0, \\qquad u_y(x,L_y,t) = 0\n",
    "$$"
   ]
  },
  {
   "cell_type": "markdown",
   "metadata": {},
   "source": [
    "Using a centered difference scheme at $x = 0$ and $x = L_x$ gives \n",
    "\n",
    "$$\n",
    "(u_x)_{1,j}^n \\approx \\frac{u_{2,j}^n - u_{0, j}^n}{2\\Delta x} = 0, \\qquad (u_x)_{N_x,j}^n \\approx \\frac{u_{N_x+1,j}^n - u_{N_x-1, j}^n}{2\\Delta x} = 0,\n",
    "$$\n",
    "\n",
    "meaning \n",
    "\n",
    "$$\n",
    "u_{0,j}^n = u_{2,j}^n\n",
    "$$\n",
    "\n",
    "$$\n",
    "u_{N_x+1, j}^n = u_{N_x-1, j}^n\n",
    "$$"
   ]
  },
  {
   "cell_type": "markdown",
   "metadata": {},
   "source": [
    "The same argument holds for the boundaries $y=0$ and $y=L_y$ such that \n",
    "\n",
    "$$\n",
    "u_{i, 0}^n = u_{i, 2}^n,\n",
    "$$\n",
    "\n",
    "$$\n",
    "u_{i, N_y+1}^n = u_{i, N_y-1}^n\n",
    "$$"
   ]
  },
  {
   "cell_type": "markdown",
   "metadata": {},
   "source": [
    "At the boundaries, we'll run into trouble with the evaluation of $q(x,y)$ outside the mesh. To circumvent this, we we Taylor expand in space:\n",
    "\n",
    "$$\n",
    "q_{i+1,j} = q_{i,j} + \\Delta x(q_x)_{i,j} + \\mathcal{O}(\\Delta x^2)\n",
    "$$\n",
    "\n",
    "and\n",
    "\n",
    "$$\n",
    "q_{i-1, j} = q_{i,j} - \\Delta x (q_x)_{i,j} + \\mathcal{O}(\\Delta x^2)\n",
    "$$\n",
    "\n",
    "which when added together yields \n",
    "\n",
    "$$\n",
    "q_{i+1,j} + q_{i-1, j} = 2q_{i,j} + \\mathcal{O}(\\Delta x^2),\n",
    "$$\n",
    "\n",
    "meaning we can approximate $q$ at the boundary $i = 1$ with\n",
    "\n",
    "Thus we can approximate $2q_{i,j} \\approx q_{i+1,j} + q_{i-1,j}$, and similarly in the $y$-direction.\n",
    "\n",
    "With this approximation, we can summarize four equations relevant for their respective boundaries boundary:\n",
    "\n",
    "$$\n",
    "q_{0,j} \\approx 2q_{1, j} - q_{2,j}, \\qquad x = 0,\n",
    "$$\n",
    "\n",
    "$$\n",
    "q_{N_x+1,j} \\approx 2q_{N_x, j} - q_{N_x-1,j},  \\qquad x = L_x,\n",
    "$$\n",
    "\n",
    "$$\n",
    "q_{i,0} \\approx 2q_{i, 1} - q_{i, 2}, \\qquad y = 0,\n",
    "$$\n",
    "\n",
    "$$\n",
    "q_{i, N_y+1} \\approx 2q_{i, N_y} - q_{i, N_y-1}, \\qquad y = L_y,\n",
    "$$\n",
    "\n",
    "where $i = 0$ and $i = N_x+1$ are ghost cells in the $x$-direction and $j = 0$ and $j=N_y+1$ are ghost cells in the $y$-direction."
   ]
  },
  {
   "cell_type": "markdown",
   "metadata": {},
   "source": [
    "### Formula for the first time step $u_{i,j}^1$"
   ]
  },
  {
   "cell_type": "markdown",
   "metadata": {},
   "source": [
    "The initial conditions\n",
    "\n",
    "$$\n",
    "u(x,y,0) = I(x,y) \\to u_{i,j}^0 = I_{i,j}\n",
    "$$\n",
    "\n",
    "and\n",
    "\n",
    "$$\n",
    "u_t(x,y,0) = V(x,y) \\to (u_t)_{i,j}^0 = V_{i,j}\n",
    "$$"
   ]
  },
  {
   "cell_type": "markdown",
   "metadata": {},
   "source": [
    "Using centered difference in the time domain, we get \n",
    "\n",
    "$$\n",
    "(u_t)_{i,j}^0 \\approx \\frac{u_{i,j}^{1}-u_{i,j}^{-1}}{2\\Delta t} = V_{i,j},\n",
    "$$\n",
    "\n",
    "which gives us \n",
    "\n",
    "$$\n",
    "u_{i,j}^{-1} = u_{i,j}^1 - 2\\Delta t V_{i,j}\n",
    "$$"
   ]
  },
  {
   "cell_type": "markdown",
   "metadata": {},
   "source": [
    "Inserting $n = 0$ and rearranging gives us"
   ]
  },
  {
   "cell_type": "markdown",
   "metadata": {},
   "source": [
    "$$\n",
    "u_{i,j}^{1} =  \\frac{1}{4}\\bigg[ 2\\Delta t(2-b\\Delta t)V_{ij}  + 4u_{i,j}^0 + C_x^2\\left[(q_{i+1,j} + q_{i,j})(u_{i+1,j}^0 - u_{i,j}^0)-(q_{i,j} + q_{i-1,j})(u_{i,j}^0 - u_{i-1,j}^0)\\right] + C_y^2\\left[(q_{i,j+1} + q_{i,j})(u_{i,j+1}^0 - u_{i,j}^0)-(q_{i,j} + q_{i,j-1})(u_{i,j}^0 - u_{i,j-1}^0)\\right] + 2\\Delta t^2f_{i,j}^0 \\bigg].\n",
    "$$"
   ]
  },
  {
   "cell_type": "markdown",
   "metadata": {},
   "source": []
  },
  {
   "cell_type": "markdown",
   "metadata": {},
   "source": [
    "## Verification"
   ]
  },
  {
   "cell_type": "markdown",
   "metadata": {},
   "source": [
    "### Constant solution"
   ]
  },
  {
   "cell_type": "markdown",
   "metadata": {},
   "source": [
    "Assuming that $u(x,y,t) = U$ for some real constant $U$, we get that \n",
    "\n",
    "$$\n",
    "u_x = 0, \\qquad u_y = 0, \n",
    "$$\n",
    "and \n",
    "\n",
    "$$\n",
    "u_t = 0, \\qquad u_{tt} = 0,\n",
    "$$\n",
    "\n",
    "The generic wave equation PDE may be compactly written as\n",
    "\n",
    "$$\n",
    "u_{tt} + bu_t = \\partial_x (qu_x) + \\partial_y (qu_y) + f.\n",
    "$$\n",
    "\n",
    "This equation imply that $f(x,y,t) = 0$ since all other terms are zero.\n",
    "\n",
    "The initial conditions imply that \n",
    "\n",
    "$$ \n",
    "u(x,y,0) = U = I(x,y), \\qquad u_t(x,y,0) = 0 = V(x,y).\n",
    "$$\n",
    "\n",
    "On \"physical\" grounds, we must require $b = 0$ since a non-zero damping coefficient will necessarily be inconsistent with a constant solution. We further set $q(x,y) = 1$."
   ]
  },
  {
   "cell_type": "markdown",
   "metadata": {},
   "source": []
  },
  {
   "cell_type": "markdown",
   "metadata": {},
   "source": [
    "#### Constant solution using scalar code"
   ]
  },
  {
   "cell_type": "code",
   "execution_count": 1,
   "metadata": {},
   "outputs": [],
   "source": [
    "from scalar_wavesolver2D import scalar_wavesolver2D\n",
    "import numpy as np"
   ]
  },
  {
   "cell_type": "code",
   "execution_count": 2,
   "metadata": {},
   "outputs": [],
   "source": [
    "U = 1.\n",
    "I = lambda x,y: U\n",
    "V = lambda x,y: 0.\n",
    "f = lambda x,y,t: 0.\n",
    "q = lambda x, y: 1. "
   ]
  },
  {
   "cell_type": "code",
   "execution_count": 3,
   "metadata": {},
   "outputs": [],
   "source": [
    "b = 0.\n",
    "Nx = 10\n",
    "Ny = 10\n",
    "T = 10\n",
    "Lx = 1.\n",
    "Ly = 1."
   ]
  },
  {
   "cell_type": "code",
   "execution_count": 4,
   "metadata": {},
   "outputs": [],
   "source": [
    "my_solver = scalar_wavesolver2D(b, Nx, Ny, Lx, Ly, T)"
   ]
  },
  {
   "cell_type": "code",
   "execution_count": 5,
   "metadata": {},
   "outputs": [
    {
     "name": "stdout",
     "output_type": "stream",
     "text": [
      "0.07071067811865475\n",
      "Timeused =  0.1035304069519043\n",
      "u =  [[1. 1. 1. 1. 1. 1. 1. 1. 1. 1. 1. 1.]\n",
      " [1. 1. 1. 1. 1. 1. 1. 1. 1. 1. 1. 1.]\n",
      " [1. 1. 1. 1. 1. 1. 1. 1. 1. 1. 1. 1.]\n",
      " [1. 1. 1. 1. 1. 1. 1. 1. 1. 1. 1. 1.]\n",
      " [1. 1. 1. 1. 1. 1. 1. 1. 1. 1. 1. 1.]\n",
      " [1. 1. 1. 1. 1. 1. 1. 1. 1. 1. 1. 1.]\n",
      " [1. 1. 1. 1. 1. 1. 1. 1. 1. 1. 1. 1.]\n",
      " [1. 1. 1. 1. 1. 1. 1. 1. 1. 1. 1. 1.]\n",
      " [1. 1. 1. 1. 1. 1. 1. 1. 1. 1. 1. 1.]\n",
      " [1. 1. 1. 1. 1. 1. 1. 1. 1. 1. 1. 1.]]\n"
     ]
    }
   ],
   "source": [
    "my_solver.set_function_conditions(I, V, f, q)\n",
    "my_solver.set_conditions()\n",
    "my_solver.solve()\n",
    "my_solver.print_solution()"
   ]
  },
  {
   "cell_type": "markdown",
   "metadata": {},
   "source": [
    "#### Constant solution using vectorized code"
   ]
  },
  {
   "cell_type": "code",
   "execution_count": 6,
   "metadata": {},
   "outputs": [],
   "source": [
    "from vector_wavesolver2D import vector_wavesolver2D"
   ]
  },
  {
   "cell_type": "code",
   "execution_count": 7,
   "metadata": {},
   "outputs": [],
   "source": [
    "my_solver = vector_wavesolver2D(b, Nx, Ny, Lx, Ly, T)"
   ]
  },
  {
   "cell_type": "code",
   "execution_count": 8,
   "metadata": {},
   "outputs": [
    {
     "name": "stdout",
     "output_type": "stream",
     "text": [
      "u =  [[1. 1. 1. 1. 1. 1. 1. 1. 1. 1. 1. 1.]\n",
      " [1. 1. 1. 1. 1. 1. 1. 1. 1. 1. 1. 1.]\n",
      " [1. 1. 1. 1. 1. 1. 1. 1. 1. 1. 1. 1.]\n",
      " [1. 1. 1. 1. 1. 1. 1. 1. 1. 1. 1. 1.]\n",
      " [1. 1. 1. 1. 1. 1. 1. 1. 1. 1. 1. 1.]\n",
      " [1. 1. 1. 1. 1. 1. 1. 1. 1. 1. 1. 1.]\n",
      " [1. 1. 1. 1. 1. 1. 1. 1. 1. 1. 1. 1.]\n",
      " [1. 1. 1. 1. 1. 1. 1. 1. 1. 1. 1. 1.]\n",
      " [1. 1. 1. 1. 1. 1. 1. 1. 1. 1. 1. 1.]\n",
      " [1. 1. 1. 1. 1. 1. 1. 1. 1. 1. 1. 1.]]\n"
     ]
    }
   ],
   "source": [
    "my_solver.set_function_conditions(I, V, f, q)\n",
    "my_solver.set_conditions()\n",
    "my_solver.solve()\n",
    "my_solver.print_solution()"
   ]
  },
  {
   "cell_type": "code",
   "execution_count": null,
   "metadata": {},
   "outputs": [],
   "source": []
  },
  {
   "cell_type": "markdown",
   "metadata": {},
   "source": [
    "### Standing wave solution"
   ]
  },
  {
   "cell_type": "markdown",
   "metadata": {},
   "source": [
    "Let $q(x,y) = q_0 \\in \\mathbb{R} \\ \\forall \\ (x,y) \\in [0,L_x] \\times [0,L_y]$ and $f(x,y,t) = 0$. A solution set is then given by standing waves \n",
    "\n",
    "$$\n",
    "u(x,y,t) = A\\cos(k_x x) \\cos(k_y y) \\cos(\\omega t), \\qquad k_x = \\frac{m_x\\pi}{L_x}, \\qquad k_y = \\frac{m_y\\pi}{L_y}\n",
    "$$\n",
    "\n",
    "with\n",
    "\n",
    "$$\n",
    "I(x,y) = u(x,y,0) = A\\cos(k_x x) \\cos(k_y y),\n",
    "$$\n",
    "\n",
    "and\n",
    "\n",
    "$$\n",
    "V(x,y) = u_t(x,y,0) = 0.\n",
    "$$\n",
    "\n",
    "To determine $\\omega$, we can differentiate u in the simpler PDE $u_{tt} = c^2(u_{xx} + u_{yy})$. Clearly, $u_{tt} = -\\omega^2u$, $u_{xx} = -k_x^2u$ and $u_{yy} = -k_y^2u$, and inserting into the PDE, we obtain\n",
    "\n",
    "$$\n",
    "\\omega = c\\sqrt{k_x^2 + k_y^2}\n",
    "$$"
   ]
  },
  {
   "cell_type": "markdown",
   "metadata": {},
   "source": [
    "#### Convergence rate"
   ]
  },
  {
   "cell_type": "markdown",
   "metadata": {},
   "source": [
    "In the following we test the vectorized solver for convergence rate which is expected to be $r = 2$."
   ]
  },
  {
   "cell_type": "code",
   "execution_count": 1,
   "metadata": {},
   "outputs": [],
   "source": [
    "from vector_wavesolver2D import vector_wavesolver2D\n",
    "from scalar_wavesolver2D import scalar_wavesolver2D\n",
    "import numpy as np\n",
    "\n",
    "def q(x,y):\n",
    "    return 1.\n",
    "\n",
    "def I(x,y,n=1, m=1, Lx = 1, Ly = 1):\n",
    "    return np.cos(n*np.pi*x/Lx)*np.cos(m*np.pi*y/Ly)\n",
    "\n",
    "def f(x,y,t):\n",
    "    return 0\n",
    "\n",
    "def V(x,y):\n",
    "    return 0\n",
    "\n",
    "def analytical(x,y,t, n=1, m=1, Lx = 1, Ly = 1):\n",
    "    c = 1.\n",
    "    omega = np.sqrt( (n*np.pi/Lx)**2 + (m*np.pi/Ly)**2 )*c\n",
    "    return np.cos(n*np.pi*x/Lx)*np.cos(m*np.pi*y/Ly)*np.cos(omega*t)"
   ]
  },
  {
   "cell_type": "code",
   "execution_count": 2,
   "metadata": {},
   "outputs": [],
   "source": [
    "Lx = 1\n",
    "Ly = 1\n",
    "Nx = 10\n",
    "Ny = 10\n",
    "T = 1"
   ]
  },
  {
   "cell_type": "code",
   "execution_count": 3,
   "metadata": {},
   "outputs": [
    {
     "name": "stdout",
     "output_type": "stream",
     "text": [
      "[1.8276717458936715, 2.046689208094095, 1.9766942506024996, 2.0395812659777923, 2.0073883646505872, 1.9967557665096383, 2.0053863254881414]\n"
     ]
    }
   ],
   "source": [
    "#Compute convergence rate:\n",
    "r = []\n",
    "E = []\n",
    "h = []\n",
    "N = [2**i for i in range(1, 9)]\n",
    "for n in N:\n",
    "    Nx = n\n",
    "    Ny = n\n",
    "    my_solver = vector_wavesolver2D(b=0., Nx = Nx, Ny=Ny, Lx = Lx, Ly = Ly, T = T)\n",
    "    my_solver.set_function_conditions(I = I, V = V, f = f, q = q)\n",
    "    my_solver.set_conditions()\n",
    "    my_solver.solve()\n",
    "    linf_norm, dx = my_solver.compute_error(analytical)\n",
    "    E.append(linf_norm)\n",
    "    h.append(dx)\n",
    "\n",
    "for i in range(len(E)-1):\n",
    "    r.append( np.log10(E[i+1]/E[i])/np.log10(h[i+1]/h[i]) )\n",
    "print(r)"
   ]
  },
  {
   "cell_type": "markdown",
   "metadata": {},
   "source": [
    "The test shows that the convergence rate is approximately $r = 2$."
   ]
  },
  {
   "cell_type": "markdown",
   "metadata": {},
   "source": [
    "### Damped waves with variable velocity"
   ]
  },
  {
   "cell_type": "markdown",
   "metadata": {},
   "source": [
    "Let \n",
    "$$\n",
    "u(x,y,t) = \\left(A\\cos\\omega t + B\\sin \\omega t \\right)e^{-dt}\\cos(k_x x) \\cos(k_y y), \\qquad k_x = \\frac{m_x\\pi}{L_x}, \\qquad k_y = \\frac{m_y\\pi}{L_y}.\n",
    "$$"
   ]
  },
  {
   "cell_type": "markdown",
   "metadata": {},
   "source": [
    "To simplify matters, we set $B = 0$ such that \n",
    "\n",
    "$$\n",
    "u(x,y,t) = A\\cos \\omega t e^{-dt}\\cos(k_x x) \\cos(k_y y),\n",
    "$$\n",
    "and assuming that $q(x,y) = y$, we obtain\n",
    "\n",
    "$$\n",
    "f(x,y,t) = (k^2 y + k_y \\tan (k_y y) - \\omega^2 - d^2) u(x,y,t),\n",
    "$$\n",
    "where we've also assumed that $b = 2d$.\n",
    "\n",
    "Clearly, the expressions for $I(x,y)$ and $V(x,y)$ are easily obtained to be \n",
    "\n",
    "$$\n",
    "I(x,y) = A\\cos(k_x x) \\cos(k_y y),\n",
    "$$\n",
    "\n",
    "and\n",
    "\n",
    "$$\n",
    "V(x,y) = -Ad \\cos (k_x x) \\cos (k_y y).\n",
    "$$"
   ]
  },
  {
   "cell_type": "code",
   "execution_count": 1,
   "metadata": {},
   "outputs": [],
   "source": [
    "from vector_wavesolver2D import vector_wavesolver2D\n",
    "import numpy as np\n",
    "\n",
    "def q(x,y):\n",
    "    return y\n",
    "\n",
    "def I(x,y,nx=1, my=1, Lx = 1, Ly = 1):\n",
    "    kx = nx*np.pi/Lx\n",
    "    ky = my*np.pi/Ly\n",
    "    return np.cos(kx*x)*np.cos(ky*y)\n",
    "\n",
    "def f(x, y, t, nx=1, my=1, omega=1., d=1., Lx = 1, Ly = 1):\n",
    "    kx = nx*np.pi/Lx\n",
    "    ky = my*np.pi/Ly\n",
    "    k_squared = kx**2 + ky**2\n",
    "    u = np.cos(omega*t)*np.exp(-d*t)*np.cos(kx*x)*np.cos(ky*y)\n",
    "    return (k_squared*y + ky*np.tan(ky*y)-2*omega**2)*u\n",
    "\n",
    "def V(x, y, nx=1, my=1, Lx = 1, Ly = 1, d=1):\n",
    "    kx = nx*np.pi/Lx\n",
    "    ky = my*np.pi/Ly\n",
    "    return -d*np.cos(kx*x)*np.cos(ky*y)\n",
    "\n",
    "def analytical(x, y, t, nx=1, my=1, omega=1., d=1, Lx = 1, Ly = 1):\n",
    "    kx = nx*np.pi/Lx\n",
    "    ky = my*np.pi/Ly\n",
    "    k_squared = kx**2 + ky**2\n",
    "    return np.cos(omega*t)*np.exp(-d*t)*np.cos(kx*x)*np.cos(ky*y)"
   ]
  },
  {
   "cell_type": "code",
   "execution_count": 2,
   "metadata": {},
   "outputs": [
    {
     "name": "stdout",
     "output_type": "stream",
     "text": [
      "[2, 4, 8, 16, 32, 64, 128]\n",
      "n =  2\n",
      "n =  4\n",
      "n =  8\n",
      "n =  16\n",
      "n =  32\n",
      "n =  64\n",
      "n =  128\n",
      "[2.5337057950642277, 1.408729101409308, 1.967827379302148, 1.980274832254245, 1.986922921578017, 1.995906926550047]\n"
     ]
    }
   ],
   "source": [
    "Lx = 1\n",
    "Ly = 1\n",
    "T = 1\n",
    "#Compute convergence rate:\n",
    "r = []\n",
    "E = []\n",
    "h = []\n",
    "N = [2**i for i in range(1, 8)]\n",
    "print(N)\n",
    "for n in N:\n",
    "    Nx = n\n",
    "    Ny = n\n",
    "    print(\"n = \", n)\n",
    "    my_solver = vector_wavesolver2D(b=2., Nx = Nx, Ny=Ny, Lx = Lx, Ly = Ly, T = T)\n",
    "    my_solver.set_function_conditions(I = I, V = V, f = f, q = q)\n",
    "    my_solver.set_conditions()\n",
    "    my_solver.solve()\n",
    "    #my_solver.plot_solution(analytical)\n",
    "    #linf_norm, dx = my_solver.compute_error(analytical)\n",
    "    linf_norm, dx = my_solver.compute_error(analytical)\n",
    "    #my_solver.plot_solution(analytical)\n",
    "    E.append(linf_norm)\n",
    "    h.append(dx)\n",
    "    \n",
    "for i in range(len(E)-1):\n",
    "    r.append( np.log10(E[i+1]/E[i])/np.log10(h[i+1]/h[i]) )\n",
    "print(r)"
   ]
  },
  {
   "cell_type": "markdown",
   "metadata": {},
   "source": [
    "So clearly, again, the convergence rate is approximately found to be $r = 2$."
   ]
  },
  {
   "cell_type": "markdown",
   "metadata": {},
   "source": [
    "### Investigating a physical problem"
   ]
  },
  {
   "cell_type": "code",
   "execution_count": 2,
   "metadata": {},
   "outputs": [
    {
     "name": "stdout",
     "output_type": "stream",
     "text": [
      "9.904544411531507\n"
     ]
    },
    {
     "data": {
      "image/png": "[encoded data removed]",
      "text/plain": [
       "<Figure size 432x288 with 2 Axes>"
      ]
     },
     "metadata": {
      "needs_background": "light"
     },
     "output_type": "display_data"
    },
    {
     "name": "stdout",
     "output_type": "stream",
     "text": [
      "9.904544411531507\n"
     ]
    },
    {
     "data": {
      "image/png": "[encoded data removed]",
      "text/plain": [
       "<Figure size 432x288 with 2 Axes>"
      ]
     },
     "metadata": {
      "needs_background": "light"
     },
     "output_type": "display_data"
    },
    {
     "name": "stdout",
     "output_type": "stream",
     "text": [
      "9.904544411531507\n"
     ]
    },
    {
     "data": {
      "image/png": "[encoded data removed]",
      "text/plain": [
       "<Figure size 432x288 with 2 Axes>"
      ]
     },
     "metadata": {
      "needs_background": "light"
     },
     "output_type": "display_data"
    },
    {
     "name": "stdout",
     "output_type": "stream",
     "text": [
      "9.904544411531507\n"
     ]
    },
    {
     "data": {
      "image/png": "[encoded data removed]",
      "text/plain": [
       "<Figure size 432x288 with 2 Axes>"
      ]
     },
     "metadata": {
      "needs_background": "light"
     },
     "output_type": "display_data"
    },
    {
     "name": "stdout",
     "output_type": "stream",
     "text": [
      "9.904544411531507\n"
     ]
    },
    {
     "data": {
      "image/png": "[encoded data removed]",
      "text/plain": [
       "<Figure size 432x288 with 2 Axes>"
      ]
     },
     "metadata": {
      "needs_background": "light"
     },
     "output_type": "display_data"
    },
    {
     "name": "stdout",
     "output_type": "stream",
     "text": [
      "9.904544411531507\n"
     ]
    },
    {
     "data": {
      "image/png": "[encoded data removed]",
      "text/plain": [
       "<Figure size 432x288 with 2 Axes>"
      ]
     },
     "metadata": {
      "needs_background": "light"
     },
     "output_type": "display_data"
    },
    {
     "name": "stdout",
     "output_type": "stream",
     "text": [
      "9.904544411531507\n"
     ]
    },
    {
     "data": {
      "image/png": "[encoded data removed]",
      "text/plain": [
       "<Figure size 432x288 with 2 Axes>"
      ]
     },
     "metadata": {
      "needs_background": "light"
     },
     "output_type": "display_data"
    },
    {
     "name": "stdout",
     "output_type": "stream",
     "text": [
      "9.904544411531507\n"
     ]
    },
    {
     "data": {
      "image/png": "[encoded data removed]",
      "text/plain": [
       "<Figure size 432x288 with 2 Axes>"
      ]
     },
     "metadata": {
      "needs_background": "light"
     },
     "output_type": "display_data"
    },
    {
     "name": "stdout",
     "output_type": "stream",
     "text": [
      "9.904544411531507\n"
     ]
    },
    {
     "data": {
      "image/png": "[encoded data removed]",
      "text/plain": [
       "<Figure size 432x288 with 2 Axes>"
      ]
     },
     "metadata": {
      "needs_background": "light"
     },
     "output_type": "display_data"
    },
    {
     "name": "stdout",
     "output_type": "stream",
     "text": [
      "9.904544411531507\n"
     ]
    },
    {
     "data": {
      "image/png": "[encoded data removed]",
      "text/plain": [
       "<Figure size 432x288 with 2 Axes>"
      ]
     },
     "metadata": {
      "needs_background": "light"
     },
     "output_type": "display_data"
    }
   ],
   "source": []
  },
  {
   "cell_type": "code",
   "execution_count": 4,
   "metadata": {},
   "outputs": [
    {
     "name": "stdout",
     "output_type": "stream",
     "text": [
      "9.904544411531507\n"
     ]
    },
    {
     "data": {
      "image/png": "[encoded data removed]",
      "text/plain": [
       "<Figure size 432x288 with 2 Axes>"
      ]
     },
     "metadata": {
      "needs_background": "light"
     },
     "output_type": "display_data"
    },
    {
     "name": "stdout",
     "output_type": "stream",
     "text": [
      "9.904544411531507\n"
     ]
    },
    {
     "data": {
      "image/png": "[encoded data removed]",
      "text/plain": [
       "<Figure size 432x288 with 2 Axes>"
      ]
     },
     "metadata": {
      "needs_background": "light"
     },
     "output_type": "display_data"
    },
    {
     "name": "stdout",
     "output_type": "stream",
     "text": [
      "9.904544411531507\n"
     ]
    },
    {
     "data": {
      "image/png": "[encoded data removed]",
      "text/plain": [
       "<Figure size 432x288 with 2 Axes>"
      ]
     },
     "metadata": {
      "needs_background": "light"
     },
     "output_type": "display_data"
    },
    {
     "name": "stdout",
     "output_type": "stream",
     "text": [
      "9.904544411531507\n"
     ]
    },
    {
     "data": {
      "image/png": "[encoded data removed]",
      "text/plain": [
       "<Figure size 432x288 with 2 Axes>"
      ]
     },
     "metadata": {
      "needs_background": "light"
     },
     "output_type": "display_data"
    },
    {
     "name": "stdout",
     "output_type": "stream",
     "text": [
      "9.904544411531507\n"
     ]
    },
    {
     "data": {
      "image/png": "[encoded data removed]",
      "text/plain": [
       "<Figure size 432x288 with 2 Axes>"
      ]
     },
     "metadata": {
      "needs_background": "light"
     },
     "output_type": "display_data"
    },
    {
     "name": "stdout",
     "output_type": "stream",
     "text": [
      "9.904544411531507\n"
     ]
    },
    {
     "data": {
      "image/png": "[encoded data removed]",
      "text/plain": [
       "<Figure size 432x288 with 2 Axes>"
      ]
     },
     "metadata": {
      "needs_background": "light"
     },
     "output_type": "display_data"
    },
    {
     "name": "stdout",
     "output_type": "stream",
     "text": [
      "9.904544411531507\n"
     ]
    },
    {
     "data": {
      "image/png": "[encoded data removed]",
      "text/plain": [
       "<Figure size 432x288 with 2 Axes>"
      ]
     },
     "metadata": {
      "needs_background": "light"
     },
     "output_type": "display_data"
    },
    {
     "name": "stdout",
     "output_type": "stream",
     "text": [
      "9.904544411531507\n"
     ]
    },
    {
     "data": {
      "image/png": "[encoded data removed]",
      "text/plain": [
       "<Figure size 432x288 with 2 Axes>"
      ]
     },
     "metadata": {
      "needs_background": "light"
     },
     "output_type": "display_data"
    },
    {
     "name": "stdout",
     "output_type": "stream",
     "text": [
      "9.904544411531507\n"
     ]
    },
    {
     "data": {
      "image/png": "[encoded data removed]",
      "text/plain": [
       "<Figure size 432x288 with 2 Axes>"
      ]
     },
     "metadata": {
      "needs_background": "light"
     },
     "output_type": "display_data"
    },
    {
     "name": "stdout",
     "output_type": "stream",
     "text": [
      "9.904544411531507\n"
     ]
    },
    {
     "data": {
      "image/png": "[encoded data removed]",
      "text/plain": [
       "<Figure size 432x288 with 2 Axes>"
      ]
     },
     "metadata": {
      "needs_background": "light"
     },
     "output_type": "display_data"
    }
   ],
   "source": [
    "from vector_wavesolver2D import vector_wavesolver2D\n",
    "from scalar_wavesolver2D import scalar_wavesolver2D\n",
    "import numpy as np\n",
    "\n",
    "def I(x,y, I0 = 1, Ia = 1., Im = 0.5, Is = 0.1):\n",
    "    return I0 + Ia*np.exp(-((x-Im)/Is)**2)\n",
    "\n",
    "def V(x,y):\n",
    "    return 0.\n",
    "\n",
    "def f(x,y,t):\n",
    "    return 0.\n",
    "\n",
    "def q(x,y, g=9.81, H0 = 10):\n",
    "    return g*(H0 - B(x,y))\n",
    "\n",
    "def B(x,y, B0=0., Ba = 1., Bmx = 0.5, Bmy = 0.5, Bs = 0.1):\n",
    "    return B0 + Ba*np.exp(-( ((x-Bmx)/Bs)**2 + ((y-Bmy)/Bs)**2 ) )\n",
    "\n",
    "\n",
    "Nx = 50\n",
    "Ny = 50\n",
    "Lx = 1.\n",
    "Ly = 1.\n",
    "b = 0.\n",
    "\n",
    "times = [0.005*i for i in range(10)]\n",
    "for T in times:\n",
    "    my_solver = vector_wavesolver2D(b=b, Nx = Nx, Ny = Ny, Lx = Lx, Ly = Ly, T = T)\n",
    "    my_solver.set_function_conditions(I = I, V = V, f = f, q = q)\n",
    "    my_solver.set_conditions()\n",
    "    my_solver.solve()\n",
    "    my_solver.plot_solution(analytical=None)"
   ]
  },
  {
   "cell_type": "code",
   "execution_count": null,
   "metadata": {},
   "outputs": [],
   "source": [
    "def I(x,y, I0 = 1, Ia = 1., Im = 0.5, Is = 0.1):\n",
    "    return I0 + Ia*np.exp(-((x-Im)/Is)**2)\n",
    "\n",
    "def V(x,y):\n",
    "    return 0.\n",
    "\n",
    "def f(x,y,t):\n",
    "    return 0.\n",
    "\n",
    "def q(x,y, g=9.81, H0 = 10):\n",
    "    return g*(H0 - B(x,y))\n",
    "\n",
    "def B(x,y, B0=0., Ba = 1., Bmx = 0.5, Bmy = 0.5, Bs = 2.):\n",
    "    if \n",
    "    return B0 + Ba*np.cos(np.pi*((x-Bmx)/(2*Bs)))*np.cos(np.pi*((y-Bmy)/(2*Bs)))\n",
    "\n",
    "\n",
    "Nx = 50\n",
    "Ny = 50\n",
    "Lx = 1.\n",
    "Ly = 1.\n",
    "b = 0."
   ]
  }
 ],
 "metadata": {
  "kernelspec": {
   "display_name": "Python 3",
   "language": "python",
   "name": "python3"
  },
  "language_info": {
   "codemirror_mode": {
    "name": "ipython",
    "version": 3
   },
   "file_extension": ".py",
   "mimetype": "text/x-python",
   "name": "python",
   "nbconvert_exporter": "python",
   "pygments_lexer": "ipython3",
   "version": "3.8.2"
  }
 },
 "nbformat": 4,
 "nbformat_minor": 4
}
