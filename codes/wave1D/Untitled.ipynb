{
 "cells": [
  {
   "cell_type": "code",
   "execution_count": 1,
   "metadata": {},
   "outputs": [],
   "source": [
    "import numpy as np\n",
    "from wave1D import wave1D\n",
    "import matplotlib.pyplot as plt\n"
   ]
  },
  {
   "cell_type": "code",
   "execution_count": 2,
   "metadata": {},
   "outputs": [],
   "source": [
    "L = 1. #Length scale\n",
    "c = 1. #Wave velocity\n",
    "T = 1. #Total time\n",
    "\n",
    "def I(x):\n",
    "    \"\"\"\n",
    "    Initial condition u(x,0) = I(x).\n",
    "    \"\"\"\n",
    "    return np.sin(2*np.pi*x/L)"
   ]
  },
  {
   "cell_type": "code",
   "execution_count": 3,
   "metadata": {},
   "outputs": [],
   "source": [
    "def analytical(x,t):\n",
    "    return np.sin(2*np.pi*x/L)*np.cos(2*np.pi*c*t/L)"
   ]
  },
  {
   "cell_type": "code",
   "execution_count": 4,
   "metadata": {},
   "outputs": [],
   "source": [
    "h0 = 0.01\n",
    "stepsizes = [h0/2**i for i in range(6)]\n",
    "l2_norms = []\n",
    "linf_norms = []"
   ]
  },
  {
   "cell_type": "code",
   "execution_count": 5,
   "metadata": {},
   "outputs": [
    {
     "name": "stdout",
     "output_type": "stream",
     "text": [
      "running for h =  0.01\n",
      "running for h =  0.005\n",
      "running for h =  0.0025\n",
      "running for h =  0.00125\n",
      "running for h =  0.000625\n",
      "running for h =  0.0003125\n"
     ]
    }
   ],
   "source": [
    "for h in stepsizes:\n",
    "    print(\"running for h = \", h)\n",
    "    my_solver = wave1D(h, L, c, T)\n",
    "    my_solver.set_conditions(I)\n",
    "    linf_norm = my_solver.compute_time_evolution(analytical)\n",
    "    linf_norms.append(linf_norm)"
   ]
  },
  {
   "cell_type": "code",
   "execution_count": 6,
   "metadata": {},
   "outputs": [
    {
     "data": {
      "image/png": "[encoded data removed]",
      "text/plain": [
       "<Figure size 432x288 with 1 Axes>"
      ]
     },
     "metadata": {
      "needs_background": "light"
     },
     "output_type": "display_data"
    }
   ],
   "source": [
    "plt.plot(np.log(stepsizes), np.log(linf_norms))\n",
    "plt.show()"
   ]
  },
  {
   "cell_type": "code",
   "execution_count": null,
   "metadata": {},
   "outputs": [],
   "source": []
  }
 ],
 "metadata": {
  "kernelspec": {
   "display_name": "Python 3",
   "language": "python",
   "name": "python3"
  },
  "language_info": {
   "codemirror_mode": {
    "name": "ipython",
    "version": 3
   },
   "file_extension": ".py",
   "mimetype": "text/x-python",
   "name": "python",
   "nbconvert_exporter": "python",
   "pygments_lexer": "ipython3",
   "version": "3.8.2"
  }
 },
 "nbformat": 4,
 "nbformat_minor": 4
}
